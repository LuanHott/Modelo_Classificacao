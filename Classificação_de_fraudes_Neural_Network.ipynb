{
  "nbformat": 4,
  "nbformat_minor": 0,
  "metadata": {
    "colab": {
      "provenance": [],
      "gpuType": "T4"
    },
    "kernelspec": {
      "name": "python3",
      "display_name": "Python 3"
    },
    "language_info": {
      "name": "python"
    },
    "accelerator": "GPU"
  },
  "cells": [
    {
      "cell_type": "code",
      "execution_count": null,
      "metadata": {
        "id": "4bjQzWv-5H7i"
      },
      "outputs": [],
      "source": [
        "import pandas as pd\n",
        "import numpy as np\n",
        "import seaborn as sns\n",
        "import tensorflow as tf\n",
        "import matplotlib.pyplot as plt\n",
        "import copy\n",
        "from sklearn.model_selection import train_test_split\n",
        "from imblearn.over_sampling import SMOTE\n",
        "\n"
      ]
    },
    {
      "cell_type": "markdown",
      "source": [
        "Fonte dos dados: https://www.kaggle.com/datasets/ealaxi/paysim1/data <br><br>\n",
        "**Observação importante: Transações que forem detectadas como fraude seram canceladas, portanto para detecção de fraudes as colunas oldbalanceOrig, newbalanceOrg, oldbalanceDest e newbalanceDest não devem ser utilizadas no treinamento do modelo.**<br><br>\n",
        "Créditos: E. A. Lopez-Rojas , A. Elmir, and S. Axelsson. \"PaySim: A financial mobile money simulator for fraud detection\". In: The 28th European Modeling and Simulation Symposium-EMSS, Larnaca, Cyprus. 2016"
      ],
      "metadata": {
        "id": "NBJmPEZHFvFh"
      }
    },
    {
      "cell_type": "markdown",
      "source": [
        "###Ingestão dos dados"
      ],
      "metadata": {
        "id": "rdz9sm41OSFg"
      }
    },
    {
      "cell_type": "code",
      "source": [
        "df = pd.read_csv('PS_20174392719_1491204439457_log.csv')\n",
        "df = df.drop(['oldbalanceOrg','newbalanceOrig','oldbalanceDest','newbalanceDest'],axis=1)\n",
        "df.head()"
      ],
      "metadata": {
        "colab": {
          "base_uri": "https://localhost:8080/",
          "height": 206
        },
        "id": "1jb5uKdmF1a7",
        "outputId": "e112b376-8033-423b-a285-8b61bce1cab9"
      },
      "execution_count": null,
      "outputs": [
        {
          "output_type": "execute_result",
          "data": {
            "text/plain": [
              "   step      type    amount     nameOrig     nameDest  isFraud  isFlaggedFraud\n",
              "0     1   PAYMENT   9839.64  C1231006815  M1979787155        0               0\n",
              "1     1   PAYMENT   1864.28  C1666544295  M2044282225        0               0\n",
              "2     1  TRANSFER    181.00  C1305486145   C553264065        1               0\n",
              "3     1  CASH_OUT    181.00   C840083671    C38997010        1               0\n",
              "4     1   PAYMENT  11668.14  C2048537720  M1230701703        0               0"
            ],
            "text/html": [
              "\n",
              "  <div id=\"df-7028238c-202a-41c3-a660-3522c19bc7be\" class=\"colab-df-container\">\n",
              "    <div>\n",
              "<style scoped>\n",
              "    .dataframe tbody tr th:only-of-type {\n",
              "        vertical-align: middle;\n",
              "    }\n",
              "\n",
              "    .dataframe tbody tr th {\n",
              "        vertical-align: top;\n",
              "    }\n",
              "\n",
              "    .dataframe thead th {\n",
              "        text-align: right;\n",
              "    }\n",
              "</style>\n",
              "<table border=\"1\" class=\"dataframe\">\n",
              "  <thead>\n",
              "    <tr style=\"text-align: right;\">\n",
              "      <th></th>\n",
              "      <th>step</th>\n",
              "      <th>type</th>\n",
              "      <th>amount</th>\n",
              "      <th>nameOrig</th>\n",
              "      <th>nameDest</th>\n",
              "      <th>isFraud</th>\n",
              "      <th>isFlaggedFraud</th>\n",
              "    </tr>\n",
              "  </thead>\n",
              "  <tbody>\n",
              "    <tr>\n",
              "      <th>0</th>\n",
              "      <td>1</td>\n",
              "      <td>PAYMENT</td>\n",
              "      <td>9839.64</td>\n",
              "      <td>C1231006815</td>\n",
              "      <td>M1979787155</td>\n",
              "      <td>0</td>\n",
              "      <td>0</td>\n",
              "    </tr>\n",
              "    <tr>\n",
              "      <th>1</th>\n",
              "      <td>1</td>\n",
              "      <td>PAYMENT</td>\n",
              "      <td>1864.28</td>\n",
              "      <td>C1666544295</td>\n",
              "      <td>M2044282225</td>\n",
              "      <td>0</td>\n",
              "      <td>0</td>\n",
              "    </tr>\n",
              "    <tr>\n",
              "      <th>2</th>\n",
              "      <td>1</td>\n",
              "      <td>TRANSFER</td>\n",
              "      <td>181.00</td>\n",
              "      <td>C1305486145</td>\n",
              "      <td>C553264065</td>\n",
              "      <td>1</td>\n",
              "      <td>0</td>\n",
              "    </tr>\n",
              "    <tr>\n",
              "      <th>3</th>\n",
              "      <td>1</td>\n",
              "      <td>CASH_OUT</td>\n",
              "      <td>181.00</td>\n",
              "      <td>C840083671</td>\n",
              "      <td>C38997010</td>\n",
              "      <td>1</td>\n",
              "      <td>0</td>\n",
              "    </tr>\n",
              "    <tr>\n",
              "      <th>4</th>\n",
              "      <td>1</td>\n",
              "      <td>PAYMENT</td>\n",
              "      <td>11668.14</td>\n",
              "      <td>C2048537720</td>\n",
              "      <td>M1230701703</td>\n",
              "      <td>0</td>\n",
              "      <td>0</td>\n",
              "    </tr>\n",
              "  </tbody>\n",
              "</table>\n",
              "</div>\n",
              "    <div class=\"colab-df-buttons\">\n",
              "\n",
              "  <div class=\"colab-df-container\">\n",
              "    <button class=\"colab-df-convert\" onclick=\"convertToInteractive('df-7028238c-202a-41c3-a660-3522c19bc7be')\"\n",
              "            title=\"Convert this dataframe to an interactive table.\"\n",
              "            style=\"display:none;\">\n",
              "\n",
              "  <svg xmlns=\"http://www.w3.org/2000/svg\" height=\"24px\" viewBox=\"0 -960 960 960\">\n",
              "    <path d=\"M120-120v-720h720v720H120Zm60-500h600v-160H180v160Zm220 220h160v-160H400v160Zm0 220h160v-160H400v160ZM180-400h160v-160H180v160Zm440 0h160v-160H620v160ZM180-180h160v-160H180v160Zm440 0h160v-160H620v160Z\"/>\n",
              "  </svg>\n",
              "    </button>\n",
              "\n",
              "  <style>\n",
              "    .colab-df-container {\n",
              "      display:flex;\n",
              "      gap: 12px;\n",
              "    }\n",
              "\n",
              "    .colab-df-convert {\n",
              "      background-color: #E8F0FE;\n",
              "      border: none;\n",
              "      border-radius: 50%;\n",
              "      cursor: pointer;\n",
              "      display: none;\n",
              "      fill: #1967D2;\n",
              "      height: 32px;\n",
              "      padding: 0 0 0 0;\n",
              "      width: 32px;\n",
              "    }\n",
              "\n",
              "    .colab-df-convert:hover {\n",
              "      background-color: #E2EBFA;\n",
              "      box-shadow: 0px 1px 2px rgba(60, 64, 67, 0.3), 0px 1px 3px 1px rgba(60, 64, 67, 0.15);\n",
              "      fill: #174EA6;\n",
              "    }\n",
              "\n",
              "    .colab-df-buttons div {\n",
              "      margin-bottom: 4px;\n",
              "    }\n",
              "\n",
              "    [theme=dark] .colab-df-convert {\n",
              "      background-color: #3B4455;\n",
              "      fill: #D2E3FC;\n",
              "    }\n",
              "\n",
              "    [theme=dark] .colab-df-convert:hover {\n",
              "      background-color: #434B5C;\n",
              "      box-shadow: 0px 1px 3px 1px rgba(0, 0, 0, 0.15);\n",
              "      filter: drop-shadow(0px 1px 2px rgba(0, 0, 0, 0.3));\n",
              "      fill: #FFFFFF;\n",
              "    }\n",
              "  </style>\n",
              "\n",
              "    <script>\n",
              "      const buttonEl =\n",
              "        document.querySelector('#df-7028238c-202a-41c3-a660-3522c19bc7be button.colab-df-convert');\n",
              "      buttonEl.style.display =\n",
              "        google.colab.kernel.accessAllowed ? 'block' : 'none';\n",
              "\n",
              "      async function convertToInteractive(key) {\n",
              "        const element = document.querySelector('#df-7028238c-202a-41c3-a660-3522c19bc7be');\n",
              "        const dataTable =\n",
              "          await google.colab.kernel.invokeFunction('convertToInteractive',\n",
              "                                                    [key], {});\n",
              "        if (!dataTable) return;\n",
              "\n",
              "        const docLinkHtml = 'Like what you see? Visit the ' +\n",
              "          '<a target=\"_blank\" href=https://colab.research.google.com/notebooks/data_table.ipynb>data table notebook</a>'\n",
              "          + ' to learn more about interactive tables.';\n",
              "        element.innerHTML = '';\n",
              "        dataTable['output_type'] = 'display_data';\n",
              "        await google.colab.output.renderOutput(dataTable, element);\n",
              "        const docLink = document.createElement('div');\n",
              "        docLink.innerHTML = docLinkHtml;\n",
              "        element.appendChild(docLink);\n",
              "      }\n",
              "    </script>\n",
              "  </div>\n",
              "\n",
              "\n",
              "<div id=\"df-7c41dc6b-ec31-48cc-9e3f-4a011819493f\">\n",
              "  <button class=\"colab-df-quickchart\" onclick=\"quickchart('df-7c41dc6b-ec31-48cc-9e3f-4a011819493f')\"\n",
              "            title=\"Suggest charts\"\n",
              "            style=\"display:none;\">\n",
              "\n",
              "<svg xmlns=\"http://www.w3.org/2000/svg\" height=\"24px\"viewBox=\"0 0 24 24\"\n",
              "     width=\"24px\">\n",
              "    <g>\n",
              "        <path d=\"M19 3H5c-1.1 0-2 .9-2 2v14c0 1.1.9 2 2 2h14c1.1 0 2-.9 2-2V5c0-1.1-.9-2-2-2zM9 17H7v-7h2v7zm4 0h-2V7h2v10zm4 0h-2v-4h2v4z\"/>\n",
              "    </g>\n",
              "</svg>\n",
              "  </button>\n",
              "\n",
              "<style>\n",
              "  .colab-df-quickchart {\n",
              "      --bg-color: #E8F0FE;\n",
              "      --fill-color: #1967D2;\n",
              "      --hover-bg-color: #E2EBFA;\n",
              "      --hover-fill-color: #174EA6;\n",
              "      --disabled-fill-color: #AAA;\n",
              "      --disabled-bg-color: #DDD;\n",
              "  }\n",
              "\n",
              "  [theme=dark] .colab-df-quickchart {\n",
              "      --bg-color: #3B4455;\n",
              "      --fill-color: #D2E3FC;\n",
              "      --hover-bg-color: #434B5C;\n",
              "      --hover-fill-color: #FFFFFF;\n",
              "      --disabled-bg-color: #3B4455;\n",
              "      --disabled-fill-color: #666;\n",
              "  }\n",
              "\n",
              "  .colab-df-quickchart {\n",
              "    background-color: var(--bg-color);\n",
              "    border: none;\n",
              "    border-radius: 50%;\n",
              "    cursor: pointer;\n",
              "    display: none;\n",
              "    fill: var(--fill-color);\n",
              "    height: 32px;\n",
              "    padding: 0;\n",
              "    width: 32px;\n",
              "  }\n",
              "\n",
              "  .colab-df-quickchart:hover {\n",
              "    background-color: var(--hover-bg-color);\n",
              "    box-shadow: 0 1px 2px rgba(60, 64, 67, 0.3), 0 1px 3px 1px rgba(60, 64, 67, 0.15);\n",
              "    fill: var(--button-hover-fill-color);\n",
              "  }\n",
              "\n",
              "  .colab-df-quickchart-complete:disabled,\n",
              "  .colab-df-quickchart-complete:disabled:hover {\n",
              "    background-color: var(--disabled-bg-color);\n",
              "    fill: var(--disabled-fill-color);\n",
              "    box-shadow: none;\n",
              "  }\n",
              "\n",
              "  .colab-df-spinner {\n",
              "    border: 2px solid var(--fill-color);\n",
              "    border-color: transparent;\n",
              "    border-bottom-color: var(--fill-color);\n",
              "    animation:\n",
              "      spin 1s steps(1) infinite;\n",
              "  }\n",
              "\n",
              "  @keyframes spin {\n",
              "    0% {\n",
              "      border-color: transparent;\n",
              "      border-bottom-color: var(--fill-color);\n",
              "      border-left-color: var(--fill-color);\n",
              "    }\n",
              "    20% {\n",
              "      border-color: transparent;\n",
              "      border-left-color: var(--fill-color);\n",
              "      border-top-color: var(--fill-color);\n",
              "    }\n",
              "    30% {\n",
              "      border-color: transparent;\n",
              "      border-left-color: var(--fill-color);\n",
              "      border-top-color: var(--fill-color);\n",
              "      border-right-color: var(--fill-color);\n",
              "    }\n",
              "    40% {\n",
              "      border-color: transparent;\n",
              "      border-right-color: var(--fill-color);\n",
              "      border-top-color: var(--fill-color);\n",
              "    }\n",
              "    60% {\n",
              "      border-color: transparent;\n",
              "      border-right-color: var(--fill-color);\n",
              "    }\n",
              "    80% {\n",
              "      border-color: transparent;\n",
              "      border-right-color: var(--fill-color);\n",
              "      border-bottom-color: var(--fill-color);\n",
              "    }\n",
              "    90% {\n",
              "      border-color: transparent;\n",
              "      border-bottom-color: var(--fill-color);\n",
              "    }\n",
              "  }\n",
              "</style>\n",
              "\n",
              "  <script>\n",
              "    async function quickchart(key) {\n",
              "      const quickchartButtonEl =\n",
              "        document.querySelector('#' + key + ' button');\n",
              "      quickchartButtonEl.disabled = true;  // To prevent multiple clicks.\n",
              "      quickchartButtonEl.classList.add('colab-df-spinner');\n",
              "      try {\n",
              "        const charts = await google.colab.kernel.invokeFunction(\n",
              "            'suggestCharts', [key], {});\n",
              "      } catch (error) {\n",
              "        console.error('Error during call to suggestCharts:', error);\n",
              "      }\n",
              "      quickchartButtonEl.classList.remove('colab-df-spinner');\n",
              "      quickchartButtonEl.classList.add('colab-df-quickchart-complete');\n",
              "    }\n",
              "    (() => {\n",
              "      let quickchartButtonEl =\n",
              "        document.querySelector('#df-7c41dc6b-ec31-48cc-9e3f-4a011819493f button');\n",
              "      quickchartButtonEl.style.display =\n",
              "        google.colab.kernel.accessAllowed ? 'block' : 'none';\n",
              "    })();\n",
              "  </script>\n",
              "</div>\n",
              "\n",
              "    </div>\n",
              "  </div>\n"
            ],
            "application/vnd.google.colaboratory.intrinsic+json": {
              "type": "dataframe",
              "variable_name": "df"
            }
          },
          "metadata": {},
          "execution_count": 3
        }
      ]
    },
    {
      "cell_type": "code",
      "source": [
        "df = pd.get_dummies(df, columns=['type'], drop_first=True)\n",
        "df.head(5)"
      ],
      "metadata": {
        "colab": {
          "base_uri": "https://localhost:8080/",
          "height": 206
        },
        "id": "u7QqgTmPMM5P",
        "outputId": "b171b93a-1b7d-468c-b33a-b0eb48209581"
      },
      "execution_count": null,
      "outputs": [
        {
          "output_type": "execute_result",
          "data": {
            "text/plain": [
              "   step    amount     nameOrig     nameDest  isFraud  isFlaggedFraud  \\\n",
              "0     1   9839.64  C1231006815  M1979787155        0               0   \n",
              "1     1   1864.28  C1666544295  M2044282225        0               0   \n",
              "2     1    181.00  C1305486145   C553264065        1               0   \n",
              "3     1    181.00   C840083671    C38997010        1               0   \n",
              "4     1  11668.14  C2048537720  M1230701703        0               0   \n",
              "\n",
              "   type_CASH_OUT  type_DEBIT  type_PAYMENT  type_TRANSFER  \n",
              "0          False       False          True          False  \n",
              "1          False       False          True          False  \n",
              "2          False       False         False           True  \n",
              "3           True       False         False          False  \n",
              "4          False       False          True          False  "
            ],
            "text/html": [
              "\n",
              "  <div id=\"df-c3f456e4-ae9a-462b-ad5e-327db837ea98\" class=\"colab-df-container\">\n",
              "    <div>\n",
              "<style scoped>\n",
              "    .dataframe tbody tr th:only-of-type {\n",
              "        vertical-align: middle;\n",
              "    }\n",
              "\n",
              "    .dataframe tbody tr th {\n",
              "        vertical-align: top;\n",
              "    }\n",
              "\n",
              "    .dataframe thead th {\n",
              "        text-align: right;\n",
              "    }\n",
              "</style>\n",
              "<table border=\"1\" class=\"dataframe\">\n",
              "  <thead>\n",
              "    <tr style=\"text-align: right;\">\n",
              "      <th></th>\n",
              "      <th>step</th>\n",
              "      <th>amount</th>\n",
              "      <th>nameOrig</th>\n",
              "      <th>nameDest</th>\n",
              "      <th>isFraud</th>\n",
              "      <th>isFlaggedFraud</th>\n",
              "      <th>type_CASH_OUT</th>\n",
              "      <th>type_DEBIT</th>\n",
              "      <th>type_PAYMENT</th>\n",
              "      <th>type_TRANSFER</th>\n",
              "    </tr>\n",
              "  </thead>\n",
              "  <tbody>\n",
              "    <tr>\n",
              "      <th>0</th>\n",
              "      <td>1</td>\n",
              "      <td>9839.64</td>\n",
              "      <td>C1231006815</td>\n",
              "      <td>M1979787155</td>\n",
              "      <td>0</td>\n",
              "      <td>0</td>\n",
              "      <td>False</td>\n",
              "      <td>False</td>\n",
              "      <td>True</td>\n",
              "      <td>False</td>\n",
              "    </tr>\n",
              "    <tr>\n",
              "      <th>1</th>\n",
              "      <td>1</td>\n",
              "      <td>1864.28</td>\n",
              "      <td>C1666544295</td>\n",
              "      <td>M2044282225</td>\n",
              "      <td>0</td>\n",
              "      <td>0</td>\n",
              "      <td>False</td>\n",
              "      <td>False</td>\n",
              "      <td>True</td>\n",
              "      <td>False</td>\n",
              "    </tr>\n",
              "    <tr>\n",
              "      <th>2</th>\n",
              "      <td>1</td>\n",
              "      <td>181.00</td>\n",
              "      <td>C1305486145</td>\n",
              "      <td>C553264065</td>\n",
              "      <td>1</td>\n",
              "      <td>0</td>\n",
              "      <td>False</td>\n",
              "      <td>False</td>\n",
              "      <td>False</td>\n",
              "      <td>True</td>\n",
              "    </tr>\n",
              "    <tr>\n",
              "      <th>3</th>\n",
              "      <td>1</td>\n",
              "      <td>181.00</td>\n",
              "      <td>C840083671</td>\n",
              "      <td>C38997010</td>\n",
              "      <td>1</td>\n",
              "      <td>0</td>\n",
              "      <td>True</td>\n",
              "      <td>False</td>\n",
              "      <td>False</td>\n",
              "      <td>False</td>\n",
              "    </tr>\n",
              "    <tr>\n",
              "      <th>4</th>\n",
              "      <td>1</td>\n",
              "      <td>11668.14</td>\n",
              "      <td>C2048537720</td>\n",
              "      <td>M1230701703</td>\n",
              "      <td>0</td>\n",
              "      <td>0</td>\n",
              "      <td>False</td>\n",
              "      <td>False</td>\n",
              "      <td>True</td>\n",
              "      <td>False</td>\n",
              "    </tr>\n",
              "  </tbody>\n",
              "</table>\n",
              "</div>\n",
              "    <div class=\"colab-df-buttons\">\n",
              "\n",
              "  <div class=\"colab-df-container\">\n",
              "    <button class=\"colab-df-convert\" onclick=\"convertToInteractive('df-c3f456e4-ae9a-462b-ad5e-327db837ea98')\"\n",
              "            title=\"Convert this dataframe to an interactive table.\"\n",
              "            style=\"display:none;\">\n",
              "\n",
              "  <svg xmlns=\"http://www.w3.org/2000/svg\" height=\"24px\" viewBox=\"0 -960 960 960\">\n",
              "    <path d=\"M120-120v-720h720v720H120Zm60-500h600v-160H180v160Zm220 220h160v-160H400v160Zm0 220h160v-160H400v160ZM180-400h160v-160H180v160Zm440 0h160v-160H620v160ZM180-180h160v-160H180v160Zm440 0h160v-160H620v160Z\"/>\n",
              "  </svg>\n",
              "    </button>\n",
              "\n",
              "  <style>\n",
              "    .colab-df-container {\n",
              "      display:flex;\n",
              "      gap: 12px;\n",
              "    }\n",
              "\n",
              "    .colab-df-convert {\n",
              "      background-color: #E8F0FE;\n",
              "      border: none;\n",
              "      border-radius: 50%;\n",
              "      cursor: pointer;\n",
              "      display: none;\n",
              "      fill: #1967D2;\n",
              "      height: 32px;\n",
              "      padding: 0 0 0 0;\n",
              "      width: 32px;\n",
              "    }\n",
              "\n",
              "    .colab-df-convert:hover {\n",
              "      background-color: #E2EBFA;\n",
              "      box-shadow: 0px 1px 2px rgba(60, 64, 67, 0.3), 0px 1px 3px 1px rgba(60, 64, 67, 0.15);\n",
              "      fill: #174EA6;\n",
              "    }\n",
              "\n",
              "    .colab-df-buttons div {\n",
              "      margin-bottom: 4px;\n",
              "    }\n",
              "\n",
              "    [theme=dark] .colab-df-convert {\n",
              "      background-color: #3B4455;\n",
              "      fill: #D2E3FC;\n",
              "    }\n",
              "\n",
              "    [theme=dark] .colab-df-convert:hover {\n",
              "      background-color: #434B5C;\n",
              "      box-shadow: 0px 1px 3px 1px rgba(0, 0, 0, 0.15);\n",
              "      filter: drop-shadow(0px 1px 2px rgba(0, 0, 0, 0.3));\n",
              "      fill: #FFFFFF;\n",
              "    }\n",
              "  </style>\n",
              "\n",
              "    <script>\n",
              "      const buttonEl =\n",
              "        document.querySelector('#df-c3f456e4-ae9a-462b-ad5e-327db837ea98 button.colab-df-convert');\n",
              "      buttonEl.style.display =\n",
              "        google.colab.kernel.accessAllowed ? 'block' : 'none';\n",
              "\n",
              "      async function convertToInteractive(key) {\n",
              "        const element = document.querySelector('#df-c3f456e4-ae9a-462b-ad5e-327db837ea98');\n",
              "        const dataTable =\n",
              "          await google.colab.kernel.invokeFunction('convertToInteractive',\n",
              "                                                    [key], {});\n",
              "        if (!dataTable) return;\n",
              "\n",
              "        const docLinkHtml = 'Like what you see? Visit the ' +\n",
              "          '<a target=\"_blank\" href=https://colab.research.google.com/notebooks/data_table.ipynb>data table notebook</a>'\n",
              "          + ' to learn more about interactive tables.';\n",
              "        element.innerHTML = '';\n",
              "        dataTable['output_type'] = 'display_data';\n",
              "        await google.colab.output.renderOutput(dataTable, element);\n",
              "        const docLink = document.createElement('div');\n",
              "        docLink.innerHTML = docLinkHtml;\n",
              "        element.appendChild(docLink);\n",
              "      }\n",
              "    </script>\n",
              "  </div>\n",
              "\n",
              "\n",
              "<div id=\"df-59fd04b8-e1d6-435f-9a9b-9fee2fee2970\">\n",
              "  <button class=\"colab-df-quickchart\" onclick=\"quickchart('df-59fd04b8-e1d6-435f-9a9b-9fee2fee2970')\"\n",
              "            title=\"Suggest charts\"\n",
              "            style=\"display:none;\">\n",
              "\n",
              "<svg xmlns=\"http://www.w3.org/2000/svg\" height=\"24px\"viewBox=\"0 0 24 24\"\n",
              "     width=\"24px\">\n",
              "    <g>\n",
              "        <path d=\"M19 3H5c-1.1 0-2 .9-2 2v14c0 1.1.9 2 2 2h14c1.1 0 2-.9 2-2V5c0-1.1-.9-2-2-2zM9 17H7v-7h2v7zm4 0h-2V7h2v10zm4 0h-2v-4h2v4z\"/>\n",
              "    </g>\n",
              "</svg>\n",
              "  </button>\n",
              "\n",
              "<style>\n",
              "  .colab-df-quickchart {\n",
              "      --bg-color: #E8F0FE;\n",
              "      --fill-color: #1967D2;\n",
              "      --hover-bg-color: #E2EBFA;\n",
              "      --hover-fill-color: #174EA6;\n",
              "      --disabled-fill-color: #AAA;\n",
              "      --disabled-bg-color: #DDD;\n",
              "  }\n",
              "\n",
              "  [theme=dark] .colab-df-quickchart {\n",
              "      --bg-color: #3B4455;\n",
              "      --fill-color: #D2E3FC;\n",
              "      --hover-bg-color: #434B5C;\n",
              "      --hover-fill-color: #FFFFFF;\n",
              "      --disabled-bg-color: #3B4455;\n",
              "      --disabled-fill-color: #666;\n",
              "  }\n",
              "\n",
              "  .colab-df-quickchart {\n",
              "    background-color: var(--bg-color);\n",
              "    border: none;\n",
              "    border-radius: 50%;\n",
              "    cursor: pointer;\n",
              "    display: none;\n",
              "    fill: var(--fill-color);\n",
              "    height: 32px;\n",
              "    padding: 0;\n",
              "    width: 32px;\n",
              "  }\n",
              "\n",
              "  .colab-df-quickchart:hover {\n",
              "    background-color: var(--hover-bg-color);\n",
              "    box-shadow: 0 1px 2px rgba(60, 64, 67, 0.3), 0 1px 3px 1px rgba(60, 64, 67, 0.15);\n",
              "    fill: var(--button-hover-fill-color);\n",
              "  }\n",
              "\n",
              "  .colab-df-quickchart-complete:disabled,\n",
              "  .colab-df-quickchart-complete:disabled:hover {\n",
              "    background-color: var(--disabled-bg-color);\n",
              "    fill: var(--disabled-fill-color);\n",
              "    box-shadow: none;\n",
              "  }\n",
              "\n",
              "  .colab-df-spinner {\n",
              "    border: 2px solid var(--fill-color);\n",
              "    border-color: transparent;\n",
              "    border-bottom-color: var(--fill-color);\n",
              "    animation:\n",
              "      spin 1s steps(1) infinite;\n",
              "  }\n",
              "\n",
              "  @keyframes spin {\n",
              "    0% {\n",
              "      border-color: transparent;\n",
              "      border-bottom-color: var(--fill-color);\n",
              "      border-left-color: var(--fill-color);\n",
              "    }\n",
              "    20% {\n",
              "      border-color: transparent;\n",
              "      border-left-color: var(--fill-color);\n",
              "      border-top-color: var(--fill-color);\n",
              "    }\n",
              "    30% {\n",
              "      border-color: transparent;\n",
              "      border-left-color: var(--fill-color);\n",
              "      border-top-color: var(--fill-color);\n",
              "      border-right-color: var(--fill-color);\n",
              "    }\n",
              "    40% {\n",
              "      border-color: transparent;\n",
              "      border-right-color: var(--fill-color);\n",
              "      border-top-color: var(--fill-color);\n",
              "    }\n",
              "    60% {\n",
              "      border-color: transparent;\n",
              "      border-right-color: var(--fill-color);\n",
              "    }\n",
              "    80% {\n",
              "      border-color: transparent;\n",
              "      border-right-color: var(--fill-color);\n",
              "      border-bottom-color: var(--fill-color);\n",
              "    }\n",
              "    90% {\n",
              "      border-color: transparent;\n",
              "      border-bottom-color: var(--fill-color);\n",
              "    }\n",
              "  }\n",
              "</style>\n",
              "\n",
              "  <script>\n",
              "    async function quickchart(key) {\n",
              "      const quickchartButtonEl =\n",
              "        document.querySelector('#' + key + ' button');\n",
              "      quickchartButtonEl.disabled = true;  // To prevent multiple clicks.\n",
              "      quickchartButtonEl.classList.add('colab-df-spinner');\n",
              "      try {\n",
              "        const charts = await google.colab.kernel.invokeFunction(\n",
              "            'suggestCharts', [key], {});\n",
              "      } catch (error) {\n",
              "        console.error('Error during call to suggestCharts:', error);\n",
              "      }\n",
              "      quickchartButtonEl.classList.remove('colab-df-spinner');\n",
              "      quickchartButtonEl.classList.add('colab-df-quickchart-complete');\n",
              "    }\n",
              "    (() => {\n",
              "      let quickchartButtonEl =\n",
              "        document.querySelector('#df-59fd04b8-e1d6-435f-9a9b-9fee2fee2970 button');\n",
              "      quickchartButtonEl.style.display =\n",
              "        google.colab.kernel.accessAllowed ? 'block' : 'none';\n",
              "    })();\n",
              "  </script>\n",
              "</div>\n",
              "\n",
              "    </div>\n",
              "  </div>\n"
            ],
            "application/vnd.google.colaboratory.intrinsic+json": {
              "type": "dataframe",
              "variable_name": "df"
            }
          },
          "metadata": {},
          "execution_count": 4
        }
      ]
    },
    {
      "cell_type": "code",
      "source": [
        "print(df['nameOrig'].nunique())\n",
        "print(df['nameOrig'].size)"
      ],
      "metadata": {
        "colab": {
          "base_uri": "https://localhost:8080/"
        },
        "id": "3Sxh0KLTdX_Y",
        "outputId": "3ad71637-9f55-4c35-dfcc-d7f6a4227b51"
      },
      "execution_count": null,
      "outputs": [
        {
          "output_type": "stream",
          "name": "stdout",
          "text": [
            "6353307\n",
            "6362620\n"
          ]
        }
      ]
    },
    {
      "cell_type": "code",
      "source": [
        "frequency_nameOrig = df['nameOrig'].value_counts()\n",
        "df['nameOrig'] = df['nameOrig'].map(frequency_nameOrig)\n",
        "\n",
        "frequency_nameDest = df['nameDest'].value_counts()\n",
        "df['nameDest'] = df['nameDest'].map(frequency_nameDest)"
      ],
      "metadata": {
        "id": "e6VHCiRtdcrD"
      },
      "execution_count": null,
      "outputs": []
    },
    {
      "cell_type": "code",
      "source": [
        "print(df.head())\n",
        "print(df['nameOrig'].nunique())\n",
        "print(df['nameOrig'].size)"
      ],
      "metadata": {
        "colab": {
          "base_uri": "https://localhost:8080/"
        },
        "id": "uXh7Dzcuelt1",
        "outputId": "4a5d3ea8-a1d2-4c5a-989f-18dbb271f9dd"
      },
      "execution_count": null,
      "outputs": [
        {
          "output_type": "stream",
          "name": "stdout",
          "text": [
            "   step    amount  nameOrig  nameDest  isFraud  isFlaggedFraud  type_CASH_OUT  \\\n",
            "0     1   9839.64         1         1        0               0          False   \n",
            "1     1   1864.28         1         1        0               0          False   \n",
            "2     1    181.00         1        44        1               0          False   \n",
            "3     1    181.00         1        41        1               0           True   \n",
            "4     1  11668.14         1         1        0               0          False   \n",
            "\n",
            "   type_DEBIT  type_PAYMENT  type_TRANSFER  \n",
            "0       False          True          False  \n",
            "1       False          True          False  \n",
            "2       False         False           True  \n",
            "3       False         False          False  \n",
            "4       False          True          False  \n",
            "3\n",
            "6362620\n"
          ]
        }
      ]
    },
    {
      "cell_type": "code",
      "source": [
        "df['step'] = df['step'].astype(int)\n",
        "df['amount'] = df['amount'].astype(float)\n",
        "df['nameOrig'] = df['nameOrig'].astype(int)\n",
        "df['nameDest'] = df['nameDest'].astype(int)\n",
        "df['isFraud'] = df['isFraud'].astype(int)\n",
        "df['isFlaggedFraud'] = df['isFlaggedFraud'].astype(int)\n",
        "df['type_CASH_OUT'] = df['type_CASH_OUT'].astype('uint8')\n",
        "df['type_DEBIT'] = df['type_DEBIT'].astype('uint8')\n",
        "df['type_PAYMENT'] = df['type_PAYMENT'].astype('uint8')\n",
        "df['type_TRANSFER'] = df['type_TRANSFER'].astype('uint8')"
      ],
      "metadata": {
        "id": "gYLjsAQW1Ipx"
      },
      "execution_count": null,
      "outputs": []
    },
    {
      "cell_type": "markdown",
      "source": [
        "### Funções para visualização do resultado"
      ],
      "metadata": {
        "id": "SNa0L_lzOVAp"
      }
    },
    {
      "cell_type": "code",
      "source": [
        "def plot_loss(history):\n",
        "    plt.figure(figsize=(10, 6))\n",
        "    plt.plot(history.history['loss'], label='Training Loss')\n",
        "    plt.plot(history.history['val_loss'], label='Validation Loss')\n",
        "    plt.title('Loss do modelo')\n",
        "    plt.xlabel('Epoch')\n",
        "    plt.ylabel('Loss')\n",
        "    plt.legend(loc='upper right')\n",
        "    plt.grid(True)\n",
        "    plt.show()\n",
        "\n",
        "def plot_accuracy(history):\n",
        "    plt.figure(figsize=(10, 6))\n",
        "    plt.plot(history.history['accuracy'], label='Training accuracy')\n",
        "    plt.plot(history.history['val_accuracy'], label='Validation accuracy')\n",
        "    plt.title('Accuracy do modelo')\n",
        "    plt.xlabel('Epoch')\n",
        "    plt.ylabel('Accuracy')\n",
        "    plt.legend(loc='upper right')\n",
        "    plt.grid(True)\n",
        "    plt.show()"
      ],
      "metadata": {
        "id": "CegqRU-YODEX"
      },
      "execution_count": null,
      "outputs": []
    },
    {
      "cell_type": "markdown",
      "source": [
        "###Preparação dos dados / oversampling"
      ],
      "metadata": {
        "id": "FE6IDPM6QIXB"
      }
    },
    {
      "cell_type": "code",
      "source": [
        "df_sampled = df.sample(frac=0.01, random_state=42)\n",
        "\n",
        "X = df_sampled.drop('isFraud', axis=1)\n",
        "y = df_sampled['isFraud']\n",
        "\n",
        "smote = SMOTE(random_state=42)\n",
        "X_resampled, y_resampled = smote.fit_resample(X, y)\n",
        "\n",
        "df_resampled = pd.DataFrame(X_resampled, columns=X.columns)\n",
        "df_resampled['isFraud'] = y_resampled\n",
        "\n",
        "train, test= train_test_split(df_resampled, test_size=0.4, random_state=42)\n",
        "\n",
        "val, test = train_test_split(test, test_size=0.5, random_state=42)"
      ],
      "metadata": {
        "id": "CPrDPNJ8TeRN"
      },
      "execution_count": null,
      "outputs": []
    },
    {
      "cell_type": "code",
      "source": [
        "def get_labels(dataframe, y_label, x_labels=None):\n",
        "  dataframe = copy.deepcopy(dataframe)\n",
        "  if not x_labels:\n",
        "    X = dataframe[[c for c in dataframe.columns if c!=y_label]].values\n",
        "  else:\n",
        "    if len(x_labels) == 1:\n",
        "      X = dataframe[x_labels[0]].values.reshape(-1,1)\n",
        "    else:\n",
        "      X = dataframe[x_labels].values\n",
        "\n",
        "  y = dataframe[y_label].values.reshape(-1,1)\n",
        "  data = np.hstack((X,y))\n",
        "\n",
        "  return data, X, y"
      ],
      "metadata": {
        "id": "wcnaa5udT37q"
      },
      "execution_count": null,
      "outputs": []
    },
    {
      "cell_type": "code",
      "source": [
        "x_labels = df.columns.drop(\"isFraud\").tolist()\n",
        "_,X_train_fraud, y_train_fraud = get_labels(train, \"isFraud\",x_labels)\n",
        "_,X_val_fraud, y_val_fraud = get_labels(val, \"isFraud\",x_labels)\n",
        "_,X_test_fraud, y_test_fraud = get_labels(test, \"isFraud\",x_labels)"
      ],
      "metadata": {
        "id": "0S1W16LbT5u-"
      },
      "execution_count": null,
      "outputs": []
    },
    {
      "cell_type": "code",
      "source": [
        "print(df['isFraud'].value_counts())\n",
        "print(df_resampled['isFraud'].value_counts())"
      ],
      "metadata": {
        "colab": {
          "base_uri": "https://localhost:8080/"
        },
        "id": "Q0T5iafocm7B",
        "outputId": "3a97ffd6-ae32-4750-d222-8a0f5b2c7a52"
      },
      "execution_count": null,
      "outputs": [
        {
          "output_type": "stream",
          "name": "stdout",
          "text": [
            "isFraud\n",
            "0    6354407\n",
            "1       8213\n",
            "Name: count, dtype: int64\n",
            "isFraud\n",
            "0    63539\n",
            "1    63539\n",
            "Name: count, dtype: int64\n"
          ]
        }
      ]
    },
    {
      "cell_type": "markdown",
      "source": [
        "###Criação do modelo"
      ],
      "metadata": {
        "id": "f1Pp046HUGfL"
      }
    },
    {
      "cell_type": "code",
      "source": [
        "nn_model = tf.keras.Sequential([\n",
        "    tf.keras.layers.Dense(32, activation='relu',input_shape=(9,)),\n",
        "    tf.keras.layers.Dense(32, activation='relu'),\n",
        "    tf.keras.layers.Dense(1, activation='sigmoid')\n",
        "])\n",
        "\n",
        "nn_model.compile(optimizer=tf.keras.optimizers.Adam(0.001), loss=\"binary_crossentropy\",metrics=['accuracy'])"
      ],
      "metadata": {
        "colab": {
          "base_uri": "https://localhost:8080/"
        },
        "id": "Ry3X7OupQKsI",
        "outputId": "02d898d3-6873-4690-b822-43de7c8470c1"
      },
      "execution_count": null,
      "outputs": [
        {
          "output_type": "stream",
          "name": "stderr",
          "text": [
            "/usr/local/lib/python3.10/dist-packages/keras/src/layers/core/dense.py:87: UserWarning: Do not pass an `input_shape`/`input_dim` argument to a layer. When using Sequential models, prefer using an `Input(shape)` object as the first layer in the model instead.\n",
            "  super().__init__(activity_regularizer=activity_regularizer, **kwargs)\n"
          ]
        }
      ]
    },
    {
      "cell_type": "markdown",
      "source": [
        "###Treinamento do modelo"
      ],
      "metadata": {
        "id": "fXEva0KDUyVz"
      }
    },
    {
      "cell_type": "code",
      "source": [
        "history = nn_model.fit(\n",
        "    X_train_fraud, y_train_fraud, epochs=100, batch_size=32, validation_data=(X_val_fraud,y_val_fraud), verbose=0\n",
        ")"
      ],
      "metadata": {
        "id": "H5WliQKmU1_Q"
      },
      "execution_count": null,
      "outputs": []
    },
    {
      "cell_type": "code",
      "source": [
        "plot_loss(history)\n",
        "plot_accuracy(history)"
      ],
      "metadata": {
        "colab": {
          "base_uri": "https://localhost:8080/",
          "height": 1000
        },
        "id": "ZtcNhyIlFRX9",
        "outputId": "b16745e9-ba54-4b68-c31a-b967c389f91b"
      },
      "execution_count": null,
      "outputs": [
        {
          "output_type": "display_data",
          "data": {
            "text/plain": [
              "<Figure size 1000x600 with 1 Axes>"
            ],
            "image/png": "[encoded data removed]"
          },
          "metadata": {}
        },
        {
          "output_type": "display_data",
          "data": {
            "text/plain": [
              "<Figure size 1000x600 with 1 Axes>"
            ],
            "image/png": "[encoded data removed]"
          },
          "metadata": {}
        }
      ]
    },
    {
      "cell_type": "code",
      "source": [
        "print(history.history)"
      ],
      "metadata": {
        "colab": {
          "base_uri": "https://localhost:8080/"
        },
        "id": "3uxEYtkjU-ur",
        "outputId": "8e0171a3-0bc6-43eb-df44-cbd7c8565211"
      },
      "execution_count": null,
      "outputs": [
        {
          "output_type": "stream",
          "name": "stdout",
          "text": [
            "{'accuracy': [0.5786270499229431, 0.5890932083129883, 0.5941951274871826, 0.610799252986908, 0.6136322021484375, 0.6235737204551697, 0.6243868470191956, 0.6356005668640137, 0.6432993412017822, 0.6647299528121948, 0.6786847710609436, 0.6956692934036255, 0.7067387104034424, 0.7270545363426208, 0.739107608795166, 0.7562363743782043, 0.7581118941307068, 0.781221330165863, 0.7898381352424622, 0.7740602493286133, 0.7559347152709961, 0.7491671442985535, 0.7329040169715881, 0.5810796618461609, 0.5876242518424988, 0.6503947973251343, 0.6009889245033264, 0.6111533641815186, 0.6301183104515076, 0.5585079789161682, 0.5666788816452026, 0.6173438429832458, 0.6172520518302917, 0.5705217123031616, 0.5528945922851562, 0.5748367309570312, 0.5222962498664856, 0.5219159126281738, 0.5341132879257202, 0.5377724766731262, 0.5607507228851318, 0.5577604174613953, 0.5355035066604614, 0.5961493253707886, 0.5552684664726257, 0.5633869171142578, 0.578941822052002, 0.5884767770767212, 0.6171864867210388, 0.5714266896247864, 0.5568161010742188, 0.5731841921806335, 0.6133829951286316, 0.5478582382202148, 0.5691839456558228, 0.5350969433784485, 0.5763449668884277, 0.6355874538421631, 0.6304593086242676, 0.5456154942512512, 0.5569078922271729, 0.5312672257423401, 0.5292080640792847, 0.5250767469406128, 0.5540618300437927, 0.5278440713882446, 0.5390971302986145, 0.5328279733657837, 0.5462974905967712, 0.5738137364387512, 0.5317918062210083, 0.5655247569084167, 0.5471369028091431, 0.53080815076828, 0.555753767490387, 0.5698790550231934, 0.6259738206863403, 0.5281850695610046, 0.5392545461654663, 0.5349264144897461, 0.5243947505950928, 0.5575636625289917, 0.544041633605957, 0.550887942314148, 0.5870996713638306, 0.5460220575332642, 0.5482910871505737, 0.5422579646110535, 0.5730530023574829, 0.6127665638923645, 0.5466516017913818, 0.5432416200637817, 0.5418514013290405, 0.60311359167099, 0.5451827049255371, 0.5711119174957275, 0.5528683662414551, 0.5684494972229004, 0.5427825450897217, 0.5563964247703552], 'loss': [722.3943481445312, 564.540771484375, 446.74957275390625, 264.040771484375, 215.5938720703125, 151.41250610351562, 114.91633605957031, 76.73085021972656, 64.52772521972656, 41.86956787109375, 30.377281188964844, 20.18977165222168, 16.334613800048828, 11.072406768798828, 5.351494789123535, 0.755318284034729, 1.1443911790847778, 0.6185915470123291, 0.5738913416862488, 0.6025576591491699, 0.6330962181091309, 0.6092721223831177, 0.606573760509491, 0.7332360744476318, 0.6543930172920227, 0.5903015732765198, 0.9087704420089722, 0.6187872886657715, 0.6047247052192688, 0.7040131688117981, 0.6807023286819458, 0.6140862703323364, 0.6457861065864563, 0.6663088798522949, 0.7425612807273865, 0.6564255356788635, 0.7010940313339233, 0.7404385805130005, 0.6717694997787476, 0.6733489632606506, 0.6562170386314392, 0.6618978977203369, 0.6943983435630798, 0.6514397263526917, 0.6545196771621704, 0.6742998361587524, 0.6399276852607727, 0.6341994404792786, 0.6151314973831177, 0.6512560844421387, 0.6752734780311584, 0.6430772542953491, 0.6124470233917236, 0.6664678454399109, 0.6980658769607544, 0.7098115086555481, 0.6435912847518921, 0.6016468405723572, 0.6029313206672668, 0.6844185590744019, 0.7302848100662231, 0.6764159202575684, 0.6894153952598572, 0.678378701210022, 0.6674981713294983, 0.6768038868904114, 0.686221182346344, 0.6741674542427063, 0.6638062000274658, 0.6504390835762024, 0.6729810237884521, 0.6499531269073486, 0.7816207408905029, 0.6728348135948181, 0.6643470525741577, 0.6465926766395569, 0.616732120513916, 0.6819018721580505, 0.6856740713119507, 0.6755753755569458, 0.6779177784919739, 0.6555302739143372, 0.9014926552772522, 0.6588473320007324, 0.6319313049316406, 0.724624752998352, 0.6628056168556213, 0.6642809510231018, 0.6449090838432312, 0.623260498046875, 0.8110199570655823, 0.6972727179527283, 0.6636373996734619, 0.6210353374481201, 0.6780225038528442, 0.6463410258293152, 0.6597800254821777, 0.6501739621162415, 0.6777981519699097, 0.6579077243804932], 'val_accuracy': [0.594035267829895, 0.5003147721290588, 0.6697749495506287, 0.6760308742523193, 0.5830972790718079, 0.6644240021705627, 0.49854421615600586, 0.7033758163452148, 0.6758341193199158, 0.7337504029273987, 0.8133065700531006, 0.6679650545120239, 0.708687424659729, 0.5766839981079102, 0.7582625150680542, 0.7784466743469238, 0.7415013909339905, 0.7913519144058228, 0.8194838166236877, 0.8008734583854675, 0.7810434103012085, 0.7908797860145569, 0.8098048567771912, 0.5260072350502014, 0.6629288792610168, 0.6525023579597473, 0.5604344010353088, 0.6384167671203613, 0.42882436513900757, 0.5580343008041382, 0.599819004535675, 0.6010780334472656, 0.5924220681190491, 0.5269515514373779, 0.5702707171440125, 0.5184136033058167, 0.5237645506858826, 0.5229383111000061, 0.5661787986755371, 0.5329319834709167, 0.5702707171440125, 0.5784938335418701, 0.5492603182792664, 0.5503226518630981, 0.5740872025489807, 0.555398166179657, 0.5723559856414795, 0.5961205363273621, 0.6401872634887695, 0.5380075573921204, 0.5310040712356567, 0.5913991332054138, 0.6201998591423035, 0.5334041714668274, 0.5273056626319885, 0.5365124344825745, 0.6080421805381775, 0.625747561454773, 0.5332860946655273, 0.5483160018920898, 0.5390305519104004, 0.5241973400115967, 0.5157774686813354, 0.5384796857833862, 0.5114494562149048, 0.5575621724128723, 0.5235678553581238, 0.5261252522468567, 0.5541391372680664, 0.5548473596572876, 0.5306499600410461, 0.5632278919219971, 0.5236071944236755, 0.5416273474693298, 0.5430830717086792, 0.6107569932937622, 0.6591517329216003, 0.5284860134124756, 0.5264006853103638, 0.5176267027854919, 0.5307286977767944, 0.5296270251274109, 0.5316729545593262, 0.5749921202659607, 0.5948615074157715, 0.5434765219688416, 0.5321057438850403, 0.5517390370368958, 0.588408887386322, 0.5500078797340393, 0.5770381093025208, 0.5337976217269897, 0.5466635227203369, 0.5260072350502014, 0.56783127784729, 0.524433434009552, 0.6536040306091309, 0.5353320837020874, 0.5429257154464722, 0.5790053606033325], 'val_loss': [536.7003173828125, 676.5621948242188, 86.76939392089844, 55.29216766357422, 38.48711013793945, 65.12020874023438, 196.2706756591797, 20.04374885559082, 20.405147552490234, 10.858466148376465, 4.621382713317871, 30.540449142456055, 6.880621433258057, 8.196871757507324, 0.7457906007766724, 0.6922630667686462, 0.6988741159439087, 0.5956578254699707, 0.49864205718040466, 0.5124204158782959, 0.5718675851821899, 0.4899199604988098, 0.4642387330532074, 0.656342089176178, 0.5850840210914612, 0.5768043398857117, 0.6598917245864868, 0.5983721017837524, 2.7596287727355957, 0.6663214564323425, 0.6375768780708313, 0.6831742525100708, 0.6875161528587341, 0.6784430742263794, 0.6549221873283386, 0.6844887733459473, 0.6786990165710449, 0.6784358024597168, 0.6455275416374207, 0.6697136759757996, 0.6432533264160156, 0.637371838092804, 0.6575278043746948, 0.6604434847831726, 0.6364568471908569, 0.6514825820922852, 0.646019458770752, 0.6225439310073853, 0.5846391916275024, 0.6672555208206177, 0.672353208065033, 0.6256404519081116, 0.6187933683395386, 0.668944239616394, 0.6827094554901123, 0.669917643070221, 0.6253581047058105, 0.5975614190101624, 0.6794667840003967, 0.6768404245376587, 0.6680750846862793, 0.6783626675605774, 0.6828927397727966, 0.6736069321632385, 0.7059529423713684, 0.6554790139198303, 0.6782770752906799, 0.6764990091323853, 0.6557013392448425, 0.6581153869628906, 0.6725484728813171, 0.6504356861114502, 0.6773358583450317, 0.664566159248352, 0.6622827649116516, 0.6161946058273315, 0.5740416646003723, 0.6771605610847473, 0.6766194701194763, 0.6822041273117065, 0.6728638410568237, 0.67530357837677, 0.6726211905479431, 0.6369057297706604, 0.622126042842865, 0.6642638444900513, 0.6721714735031128, 0.6556314826011658, 0.6340216994285583, 0.670513927936554, 0.6387792825698853, 0.6694461703300476, 0.661396861076355, 0.6822625398635864, 0.6445195078849792, 0.6726459860801697, 0.5804331302642822, 0.6665083765983582, 0.6623203754425049, 0.6387313008308411]}\n"
          ]
        }
      ]
    },
    {
      "cell_type": "code",
      "source": [
        "print(history.history['val_accuracy'])"
      ],
      "metadata": {
        "colab": {
          "base_uri": "https://localhost:8080/"
        },
        "id": "YJnVeszBbRag",
        "outputId": "ab4f33dd-af86-4811-aab2-81bf19d445c1"
      },
      "execution_count": null,
      "outputs": [
        {
          "output_type": "stream",
          "name": "stdout",
          "text": [
            "[0.594035267829895, 0.5003147721290588, 0.6697749495506287, 0.6760308742523193, 0.5830972790718079, 0.6644240021705627, 0.49854421615600586, 0.7033758163452148, 0.6758341193199158, 0.7337504029273987, 0.8133065700531006, 0.6679650545120239, 0.708687424659729, 0.5766839981079102, 0.7582625150680542, 0.7784466743469238, 0.7415013909339905, 0.7913519144058228, 0.8194838166236877, 0.8008734583854675, 0.7810434103012085, 0.7908797860145569, 0.8098048567771912, 0.5260072350502014, 0.6629288792610168, 0.6525023579597473, 0.5604344010353088, 0.6384167671203613, 0.42882436513900757, 0.5580343008041382, 0.599819004535675, 0.6010780334472656, 0.5924220681190491, 0.5269515514373779, 0.5702707171440125, 0.5184136033058167, 0.5237645506858826, 0.5229383111000061, 0.5661787986755371, 0.5329319834709167, 0.5702707171440125, 0.5784938335418701, 0.5492603182792664, 0.5503226518630981, 0.5740872025489807, 0.555398166179657, 0.5723559856414795, 0.5961205363273621, 0.6401872634887695, 0.5380075573921204, 0.5310040712356567, 0.5913991332054138, 0.6201998591423035, 0.5334041714668274, 0.5273056626319885, 0.5365124344825745, 0.6080421805381775, 0.625747561454773, 0.5332860946655273, 0.5483160018920898, 0.5390305519104004, 0.5241973400115967, 0.5157774686813354, 0.5384796857833862, 0.5114494562149048, 0.5575621724128723, 0.5235678553581238, 0.5261252522468567, 0.5541391372680664, 0.5548473596572876, 0.5306499600410461, 0.5632278919219971, 0.5236071944236755, 0.5416273474693298, 0.5430830717086792, 0.6107569932937622, 0.6591517329216003, 0.5284860134124756, 0.5264006853103638, 0.5176267027854919, 0.5307286977767944, 0.5296270251274109, 0.5316729545593262, 0.5749921202659607, 0.5948615074157715, 0.5434765219688416, 0.5321057438850403, 0.5517390370368958, 0.588408887386322, 0.5500078797340393, 0.5770381093025208, 0.5337976217269897, 0.5466635227203369, 0.5260072350502014, 0.56783127784729, 0.524433434009552, 0.6536040306091309, 0.5353320837020874, 0.5429257154464722, 0.5790053606033325]\n"
          ]
        }
      ]
    }
  ]
}